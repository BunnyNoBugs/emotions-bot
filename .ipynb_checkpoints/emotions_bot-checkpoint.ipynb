{
 "cells": [
  {
   "cell_type": "code",
   "execution_count": 245,
   "metadata": {},
   "outputs": [],
   "source": [
    "import pandas as pd\n",
    "import numpy as np\n",
    "from sklearn.metrics import *\n",
    "from sklearn.model_selection import GridSearchCV, train_test_split\n",
    "from sklearn.pipeline import Pipeline\n",
    "from nltk.tokenize import TweetTokenizer\n",
    "tw = TweetTokenizer()\n",
    "tw_strip_handles = TweetTokenizer(strip_handles=True)\n",
    "from nltk.corpus import stopwords\n",
    "from sklearn.neighbors import KNeighborsClassifier\n",
    "from sklearn.feature_extraction.text import TfidfVectorizer\n",
    "from sklearn.linear_model import LogisticRegression\n",
    "import markovify\n",
    "import re\n",
    "from pymorphy2 import MorphAnalyzer\n",
    "pymorphy_analyzer = MorphAnalyzer()\n",
    "import random\n",
    "import pickle\n",
    "import json"
   ]
  },
  {
   "cell_type": "code",
   "execution_count": 4,
   "metadata": {},
   "outputs": [],
   "source": [
    "stopwords_rus = stopwords.words('russian')"
   ]
  },
  {
   "cell_type": "code",
   "execution_count": 5,
   "metadata": {},
   "outputs": [],
   "source": [
    "positive = pd.read_csv('positive.csv', sep=';', usecols=[3], names=['text'])\n",
    "positive['label'] = ['positive'] * len(positive)\n",
    "negative = pd.read_csv('negative.csv', sep=';', usecols=[3], names=['text'])\n",
    "negative['label'] = ['negative'] * len(negative)\n",
    "df = positive.append(negative)"
   ]
  },
  {
   "cell_type": "code",
   "execution_count": 6,
   "metadata": {},
   "outputs": [
    {
     "data": {
      "text/plain": [
       "12.26488092613982"
      ]
     },
     "execution_count": 6,
     "metadata": {},
     "output_type": "execute_result"
    }
   ],
   "source": [
    "df['text'].apply(lambda x: len(x.split())).mean()"
   ]
  },
  {
   "cell_type": "code",
   "execution_count": 7,
   "metadata": {},
   "outputs": [
    {
     "data": {
      "text/html": [
       "<div>\n",
       "<style scoped>\n",
       "    .dataframe tbody tr th:only-of-type {\n",
       "        vertical-align: middle;\n",
       "    }\n",
       "\n",
       "    .dataframe tbody tr th {\n",
       "        vertical-align: top;\n",
       "    }\n",
       "\n",
       "    .dataframe thead th {\n",
       "        text-align: right;\n",
       "    }\n",
       "</style>\n",
       "<table border=\"1\" class=\"dataframe\">\n",
       "  <thead>\n",
       "    <tr style=\"text-align: right;\">\n",
       "      <th></th>\n",
       "      <th>text</th>\n",
       "    </tr>\n",
       "    <tr>\n",
       "      <th>label</th>\n",
       "      <th></th>\n",
       "    </tr>\n",
       "  </thead>\n",
       "  <tbody>\n",
       "    <tr>\n",
       "      <td>negative</td>\n",
       "      <td>111923</td>\n",
       "    </tr>\n",
       "    <tr>\n",
       "      <td>positive</td>\n",
       "      <td>114911</td>\n",
       "    </tr>\n",
       "  </tbody>\n",
       "</table>\n",
       "</div>"
      ],
      "text/plain": [
       "            text\n",
       "label           \n",
       "negative  111923\n",
       "positive  114911"
      ]
     },
     "execution_count": 7,
     "metadata": {},
     "output_type": "execute_result"
    }
   ],
   "source": [
    "df.groupby('label').count()"
   ]
  },
  {
   "cell_type": "code",
   "execution_count": 8,
   "metadata": {},
   "outputs": [],
   "source": [
    "X_train, X_test, y_train, y_test = train_test_split(df.text, df.label)"
   ]
  },
  {
   "cell_type": "code",
   "execution_count": 9,
   "metadata": {},
   "outputs": [],
   "source": [
    "def pymorphy_lemmatize(text):\n",
    "    text = tw.tokenize(text)\n",
    "    text = ' '.join([pymorphy_analyzer.parse(x)[0].normal_form for x in text])\n",
    "    \n",
    "    return text"
   ]
  },
  {
   "cell_type": "code",
   "execution_count": 10,
   "metadata": {},
   "outputs": [
    {
     "name": "stdout",
     "output_type": "stream",
     "text": [
      "Wall time: 6min 51s\n"
     ]
    }
   ],
   "source": [
    "%%time\n",
    "\n",
    "X_train = X_train.apply(pymorphy_lemmatize)\n",
    "X_test = X_test.apply(pymorphy_lemmatize)"
   ]
  },
  {
   "cell_type": "code",
   "execution_count": 286,
   "metadata": {},
   "outputs": [
    {
     "data": {
      "text/plain": [
       "99439     @randa_rin @lovemytommi на комп я к сожаление ...\n",
       "101121    прийти к девушка домой , а у она там стоить ли...\n",
       "92449     лизкий , огромный спасибо за поддержка за весь...\n",
       "99111     natasha_visavis prokopena _ опасный-опасный . ...\n",
       "40394     @blo_odred да не бояться ... они ничто не сдел...\n",
       "1539      @sport_by блин . мой прогноз не оправдаться . ...\n",
       "24438     во-вторых , мы ничто пока не сделать . >:-d #i...\n",
       "46367     так , я пошлый в ада . в смысл , посылка отпра...\n",
       "37494     полистать список запланировать фильм на 2011 г...\n",
       "6427      \" @anutka_loca : @eugen_shewzow жопа бабуин :d...\n",
       "Name: text, dtype: object"
      ]
     },
     "execution_count": 286,
     "metadata": {},
     "output_type": "execute_result"
    }
   ],
   "source": [
    "X_train[:10]"
   ]
  },
  {
   "cell_type": "code",
   "execution_count": 287,
   "metadata": {},
   "outputs": [
    {
     "name": "stderr",
     "output_type": "stream",
     "text": [
      "c:\\program files\\python37\\lib\\site-packages\\sklearn\\linear_model\\logistic.py:432: FutureWarning: Default solver will be changed to 'lbfgs' in 0.22. Specify a solver to silence this warning.\n",
      "  FutureWarning)\n"
     ]
    },
    {
     "name": "stdout",
     "output_type": "stream",
     "text": [
      "Wall time: 12.8 s\n"
     ]
    },
    {
     "data": {
      "text/plain": [
       "Pipeline(memory=None,\n",
       "         steps=[('vectorizer',\n",
       "                 TfidfVectorizer(analyzer='word', binary=False,\n",
       "                                 decode_error='strict',\n",
       "                                 dtype=<class 'numpy.float64'>,\n",
       "                                 encoding='utf-8', input='content',\n",
       "                                 lowercase=True, max_df=1.0, max_features=None,\n",
       "                                 min_df=1, ngram_range=(1, 2), norm='l2',\n",
       "                                 preprocessor=None, smooth_idf=True,\n",
       "                                 stop_words=['и', 'в', 'во', 'не', 'что', 'он',\n",
       "                                             'на', 'я', 'с', 'со', 'как'...\n",
       "                                 tokenizer=<bound method TweetTokenizer.tokenize of <nltk.tokenize.casual.TweetTokenizer object at 0x000002103B777C88>>,\n",
       "                                 use_idf=True, vocabulary=None)),\n",
       "                ('logistic',\n",
       "                 LogisticRegression(C=1.0, class_weight=None, dual=False,\n",
       "                                    fit_intercept=True, intercept_scaling=1,\n",
       "                                    l1_ratio=None, max_iter=100,\n",
       "                                    multi_class='warn', n_jobs=None,\n",
       "                                    penalty='l2', random_state=None,\n",
       "                                    solver='warn', tol=0.0001, verbose=0,\n",
       "                                    warm_start=False))],\n",
       "         verbose=False)"
      ]
     },
     "execution_count": 287,
     "metadata": {},
     "output_type": "execute_result"
    }
   ],
   "source": [
    "%%time\n",
    "\n",
    "pipe = Pipeline([('vectorizer', \n",
    "                TfidfVectorizer(ngram_range=(1, 2), tokenizer=tw_strip_handles.tokenize, stop_words=stopwords_rus)), \n",
    "               ('logistic',\n",
    "                LogisticRegression()\n",
    "                )\n",
    "              ])\n",
    "\n",
    "# grid = GridSearchCV(\n",
    "#     pipe,\n",
    "#     param_grid={\n",
    "# #         'logistic__C': np.logspace(-3, 1, 5),\n",
    "# #         'logistic__penalty': ['l1', 'l2']\n",
    "#     }\n",
    "# )\n",
    "# grid.fit(X_train, y_train)\n",
    "\n",
    "pipe.fit(X_train, y_train)"
   ]
  },
  {
   "cell_type": "code",
   "execution_count": 13,
   "metadata": {},
   "outputs": [
    {
     "data": {
      "text/plain": [
       "{}"
      ]
     },
     "execution_count": 13,
     "metadata": {},
     "output_type": "execute_result"
    }
   ],
   "source": [
    "grid.best_params_"
   ]
  },
  {
   "cell_type": "code",
   "execution_count": 288,
   "metadata": {},
   "outputs": [
    {
     "name": "stdout",
     "output_type": "stream",
     "text": [
      "              precision    recall  f1-score   support\n",
      "\n",
      "    negative       1.00      1.00      1.00     83940\n",
      "    positive       1.00      1.00      1.00     86185\n",
      "\n",
      "    accuracy                           1.00    170125\n",
      "   macro avg       1.00      1.00      1.00    170125\n",
      "weighted avg       1.00      1.00      1.00    170125\n",
      "\n",
      "              precision    recall  f1-score   support\n",
      "\n",
      "    negative       1.00      1.00      1.00     27846\n",
      "    positive       1.00      1.00      1.00     28863\n",
      "\n",
      "    accuracy                           1.00     56709\n",
      "   macro avg       1.00      1.00      1.00     56709\n",
      "weighted avg       1.00      1.00      1.00     56709\n",
      "\n"
     ]
    }
   ],
   "source": [
    "print(classification_report(pipe.predict(X_train), y_train))\n",
    "print(classification_report(pipe.predict(X_test), y_test))"
   ]
  },
  {
   "cell_type": "code",
   "execution_count": 290,
   "metadata": {},
   "outputs": [
    {
     "name": "stdout",
     "output_type": "stream",
     "text": [
      "['negative' 'positive']\n",
      "[[0.55484052 0.44515948]]\n"
     ]
    }
   ],
   "source": [
    "print(pipe.classes_)\n",
    "print(pipe.predict_proba(['люблю']))"
   ]
  },
  {
   "cell_type": "code",
   "execution_count": 16,
   "metadata": {},
   "outputs": [],
   "source": [
    "all_tweets = df['text'].apply(lambda x: ' '.join([i for i in tw.tokenize(x.lower()) \n",
    "                                                  if ('http' not in i) and ('@' not in i) and (i not in ['rt', ':'])]))\n",
    "all_tweets = '\\n'.join(list(all_tweets))"
   ]
  },
  {
   "cell_type": "code",
   "execution_count": 17,
   "metadata": {},
   "outputs": [],
   "source": [
    "all_model = markovify.NewlineText(all_tweets)"
   ]
  },
  {
   "cell_type": "code",
   "execution_count": 18,
   "metadata": {},
   "outputs": [
    {
     "name": "stdout",
     "output_type": "stream",
     "text": [
      "Wall time: 27.2 s\n"
     ]
    }
   ],
   "source": [
    "%%time\n",
    "\n",
    "generated_all = []\n",
    "for i in range(10000):\n",
    "    generated_all.append(all_model.make_sentence())"
   ]
  },
  {
   "cell_type": "code",
   "execution_count": 20,
   "metadata": {},
   "outputs": [],
   "source": [
    "positive_tweets = df[df['label'] == 'positive']['text'].apply(lambda x: ' '.join([i for i in tw.tokenize(x.lower()) \n",
    "                                                  if ('http' not in i) and ('@' not in i) and (i not in ['rt', ':'])]))\n",
    "positive_tweets = '\\n'.join(list(positive_tweets))"
   ]
  },
  {
   "cell_type": "code",
   "execution_count": 21,
   "metadata": {},
   "outputs": [
    {
     "data": {
      "text/plain": [
       "16473696"
      ]
     },
     "execution_count": 21,
     "metadata": {},
     "output_type": "execute_result"
    }
   ],
   "source": [
    "len(all_tweets)"
   ]
  },
  {
   "cell_type": "code",
   "execution_count": 22,
   "metadata": {},
   "outputs": [],
   "source": [
    "positive_model = markovify.NewlineText(positive_tweets)"
   ]
  },
  {
   "cell_type": "code",
   "execution_count": 23,
   "metadata": {},
   "outputs": [
    {
     "name": "stdout",
     "output_type": "stream",
     "text": [
      "Wall time: 20.7 s\n"
     ]
    }
   ],
   "source": [
    "%%time\n",
    "\n",
    "generated_positive = []\n",
    "for i in range(10000):\n",
    "    generated_positive.append(positive_model.make_sentence())"
   ]
  },
  {
   "cell_type": "code",
   "execution_count": 24,
   "metadata": {},
   "outputs": [],
   "source": [
    "negative_tweets = df[df['label'] == 'negative']['text'].apply(lambda x: ' '.join([i for i in tw.tokenize(x.lower()) \n",
    "                                                  if ('http' not in i) and ('@' not in i) and (i not in ['rt', ':'])]))\n",
    "negative_tweets = '\\n'.join(list(negative_tweets))"
   ]
  },
  {
   "cell_type": "code",
   "execution_count": 25,
   "metadata": {},
   "outputs": [],
   "source": [
    "negative_model = markovify.NewlineText(negative_tweets)"
   ]
  },
  {
   "cell_type": "code",
   "execution_count": 26,
   "metadata": {},
   "outputs": [
    {
     "name": "stdout",
     "output_type": "stream",
     "text": [
      "Wall time: 6.86 s\n"
     ]
    }
   ],
   "source": [
    "%%time\n",
    "\n",
    "generated_negative = []\n",
    "for i in range(10000):\n",
    "    generated_negative.append(negative_model.make_sentence())"
   ]
  },
  {
   "cell_type": "code",
   "execution_count": 27,
   "metadata": {},
   "outputs": [
    {
     "data": {
      "text/plain": [
       "'фелисов херов , объясни мне шта ты там кидаешь свои обидки , ты чего :d'"
      ]
     },
     "execution_count": 27,
     "metadata": {},
     "output_type": "execute_result"
    }
   ],
   "source": [
    "positive_model.make_sentence()"
   ]
  },
  {
   "cell_type": "code",
   "execution_count": 216,
   "metadata": {},
   "outputs": [],
   "source": [
    "def punct_fix(text):\n",
    "    if re.search(r' [.,!?]+?', text):\n",
    "        text = re.sub(r' ([.,!?])+?/', r'\\1', text)\n",
    "        \n",
    "    return text"
   ]
  },
  {
   "cell_type": "code",
   "execution_count": 217,
   "metadata": {},
   "outputs": [],
   "source": [
    "for i in [generated_all, generated_positive, generated_negative]:\n",
    "    for n, j in enumerate(i):\n",
    "        if j:\n",
    "            i[n] = punct_fix(j)\n",
    "        else:\n",
    "            i.remove(j)"
   ]
  },
  {
   "cell_type": "code",
   "execution_count": 294,
   "metadata": {
    "scrolled": true
   },
   "outputs": [
    {
     "data": {
      "text/plain": [
       "['не сиди как дуб, голосуй!! одна баба, ну вот как послушаешь, сразу просыпаться буду :d только пятая точка страдать будет',\n",
       " 'ааа! не ругайся! кстати, ты сама знаешь что получается? бичфейс :d',\n",
       " 'спасибо, я с ним играть …',\n",
       " 'да чтоб у твоей новой девушки нос :d',\n",
       " 'пришел спецназовец, прочитал лекцию. мы опять в месте я с одноклассницами летом в москве. :d d',\n",
       " 'первая зимняя с тобой спорить о спорте :d',\n",
       " 'надеюсь, это не повод думать, что безумно хочу платье с длинными волосами, это я, если на него :d',\n",
       " 'изизизт, ну а вообще какие пары завтра?',\n",
       " '— кросплатформенный jabber клиент, теперь у меня :d',\n",
       " 'любимый, сегодня уже встретимся ^ _ ^']"
      ]
     },
     "execution_count": 294,
     "metadata": {},
     "output_type": "execute_result"
    }
   ],
   "source": [
    "generated_positive[:10]"
   ]
  },
  {
   "cell_type": "code",
   "execution_count": 219,
   "metadata": {},
   "outputs": [],
   "source": [
    "def scale_prob(prob):\n",
    "    return prob * 2 - 1"
   ]
  },
  {
   "cell_type": "code",
   "execution_count": 220,
   "metadata": {},
   "outputs": [
    {
     "data": {
      "text/html": [
       "<div>\n",
       "<style scoped>\n",
       "    .dataframe tbody tr th:only-of-type {\n",
       "        vertical-align: middle;\n",
       "    }\n",
       "\n",
       "    .dataframe tbody tr th {\n",
       "        vertical-align: top;\n",
       "    }\n",
       "\n",
       "    .dataframe thead th {\n",
       "        text-align: right;\n",
       "    }\n",
       "</style>\n",
       "<table border=\"1\" class=\"dataframe\">\n",
       "  <thead>\n",
       "    <tr style=\"text-align: right;\">\n",
       "      <th></th>\n",
       "      <th>text</th>\n",
       "    </tr>\n",
       "  </thead>\n",
       "  <tbody>\n",
       "    <tr>\n",
       "      <td>4264</td>\n",
       "      <td>олимпиада показалась легкой.. значит и тебя об...</td>\n",
       "    </tr>\n",
       "    <tr>\n",
       "      <td>9299</td>\n",
       "      <td>блин насть а на заднем плане... :d</td>\n",
       "    </tr>\n",
       "    <tr>\n",
       "      <td>1598</td>\n",
       "      <td>думаешь? * * *</td>\n",
       "    </tr>\n",
       "    <tr>\n",
       "      <td>5088</td>\n",
       "      <td>мне в сообщениях у меня там на месте разберёмс...</td>\n",
       "    </tr>\n",
       "    <tr>\n",
       "      <td>363</td>\n",
       "      <td>разбудите его че он :d домашку пишу, чтоб была...</td>\n",
       "    </tr>\n",
       "  </tbody>\n",
       "</table>\n",
       "</div>"
      ],
      "text/plain": [
       "                                                   text\n",
       "4264  олимпиада показалась легкой.. значит и тебя об...\n",
       "9299                 блин насть а на заднем плане... :d\n",
       "1598                                     думаешь? * * *\n",
       "5088  мне в сообщениях у меня там на месте разберёмс...\n",
       "363   разбудите его че он :d домашку пишу, чтоб была..."
      ]
     },
     "execution_count": 220,
     "metadata": {},
     "output_type": "execute_result"
    }
   ],
   "source": [
    "df_all = pd.DataFrame(generated_all, columns=['text'])\n",
    "df_all.sample(5)"
   ]
  },
  {
   "cell_type": "code",
   "execution_count": 221,
   "metadata": {},
   "outputs": [
    {
     "name": "stdout",
     "output_type": "stream",
     "text": [
      "Wall time: 47.1 s\n"
     ]
    }
   ],
   "source": [
    "%%time\n",
    "\n",
    "df_all['sentiment'] = df_all['text'].apply(lambda x: scale_prob(grid.predict_proba([x])[0][1]))"
   ]
  },
  {
   "cell_type": "code",
   "execution_count": 222,
   "metadata": {},
   "outputs": [
    {
     "data": {
      "text/plain": [
       "<matplotlib.axes._subplots.AxesSubplot at 0x210103e57b8>"
      ]
     },
     "execution_count": 222,
     "metadata": {},
     "output_type": "execute_result"
    },
    {
     "data": {
      "image/png": "[encoded data removed]",
      "text/plain": [
       "<Figure size 432x288 with 1 Axes>"
      ]
     },
     "metadata": {
      "needs_background": "light"
     },
     "output_type": "display_data"
    }
   ],
   "source": [
    "df_all['sentiment'].hist()"
   ]
  },
  {
   "cell_type": "code",
   "execution_count": 223,
   "metadata": {},
   "outputs": [
    {
     "data": {
      "text/html": [
       "<div>\n",
       "<style scoped>\n",
       "    .dataframe tbody tr th:only-of-type {\n",
       "        vertical-align: middle;\n",
       "    }\n",
       "\n",
       "    .dataframe tbody tr th {\n",
       "        vertical-align: top;\n",
       "    }\n",
       "\n",
       "    .dataframe thead th {\n",
       "        text-align: right;\n",
       "    }\n",
       "</style>\n",
       "<table border=\"1\" class=\"dataframe\">\n",
       "  <thead>\n",
       "    <tr style=\"text-align: right;\">\n",
       "      <th></th>\n",
       "      <th>text</th>\n",
       "    </tr>\n",
       "  </thead>\n",
       "  <tbody>\n",
       "    <tr>\n",
       "      <td>1664</td>\n",
       "      <td>который ты мне сказал * родной человек, которы...</td>\n",
       "    </tr>\n",
       "    <tr>\n",
       "      <td>5837</td>\n",
       "      <td>спускались в падике на первый не пошла сегодня...</td>\n",
       "    </tr>\n",
       "    <tr>\n",
       "      <td>4467</td>\n",
       "      <td>как хорошо прийти домой и подать на развод... ...</td>\n",
       "    </tr>\n",
       "    <tr>\n",
       "      <td>8602</td>\n",
       "      <td>виолетта расказывает как вчера прислали ее. за...</td>\n",
       "    </tr>\n",
       "    <tr>\n",
       "      <td>5512</td>\n",
       "      <td>не-не :d в общем не хочу теперь спать :d мне и...</td>\n",
       "    </tr>\n",
       "  </tbody>\n",
       "</table>\n",
       "</div>"
      ],
      "text/plain": [
       "                                                   text\n",
       "1664  который ты мне сказал * родной человек, которы...\n",
       "5837  спускались в падике на первый не пошла сегодня...\n",
       "4467  как хорошо прийти домой и подать на развод... ...\n",
       "8602  виолетта расказывает как вчера прислали ее. за...\n",
       "5512  не-не :d в общем не хочу теперь спать :d мне и..."
      ]
     },
     "execution_count": 223,
     "metadata": {},
     "output_type": "execute_result"
    }
   ],
   "source": [
    "df_positive = pd.DataFrame(generated_positive, columns=['text'])\n",
    "df_positive.sample(5)"
   ]
  },
  {
   "cell_type": "code",
   "execution_count": 224,
   "metadata": {},
   "outputs": [
    {
     "name": "stdout",
     "output_type": "stream",
     "text": [
      "Wall time: 47 s\n"
     ]
    }
   ],
   "source": [
    "%%time\n",
    "\n",
    "df_positive['sentiment'] = df_positive['text'].apply(lambda x: scale_prob(grid.predict_proba([x])[0][1]))"
   ]
  },
  {
   "cell_type": "code",
   "execution_count": 257,
   "metadata": {},
   "outputs": [
    {
     "data": {
      "text/plain": [
       "<matplotlib.axes._subplots.AxesSubplot at 0x2103f1f9780>"
      ]
     },
     "execution_count": 257,
     "metadata": {},
     "output_type": "execute_result"
    },
    {
     "data": {
      "image/png": "[encoded data removed]",
      "text/plain": [
       "<Figure size 432x288 with 1 Axes>"
      ]
     },
     "metadata": {
      "needs_background": "light"
     },
     "output_type": "display_data"
    }
   ],
   "source": [
    "df_positive['sentiment'].hist(bins=25)"
   ]
  },
  {
   "cell_type": "code",
   "execution_count": 226,
   "metadata": {},
   "outputs": [
    {
     "data": {
      "text/html": [
       "<div>\n",
       "<style scoped>\n",
       "    .dataframe tbody tr th:only-of-type {\n",
       "        vertical-align: middle;\n",
       "    }\n",
       "\n",
       "    .dataframe tbody tr th {\n",
       "        vertical-align: top;\n",
       "    }\n",
       "\n",
       "    .dataframe thead th {\n",
       "        text-align: right;\n",
       "    }\n",
       "</style>\n",
       "<table border=\"1\" class=\"dataframe\">\n",
       "  <thead>\n",
       "    <tr style=\"text-align: right;\">\n",
       "      <th></th>\n",
       "      <th>text</th>\n",
       "    </tr>\n",
       "  </thead>\n",
       "  <tbody>\n",
       "    <tr>\n",
       "      <td>6208</td>\n",
       "      <td>у малого на ноуте. сделала вывод у нас на час ...</td>\n",
       "    </tr>\n",
       "    <tr>\n",
       "      <td>9931</td>\n",
       "      <td>но чекисты явно недовольны тем, что ты ахуенны...</td>\n",
       "    </tr>\n",
       "    <tr>\n",
       "      <td>9007</td>\n",
       "      <td>а скольких обманул и продолжает обманывать пут...</td>\n",
       "    </tr>\n",
       "    <tr>\n",
       "      <td>9311</td>\n",
       "      <td>кому твит с картинкой для</td>\n",
       "    </tr>\n",
       "    <tr>\n",
       "      <td>6084</td>\n",
       "      <td>я как бы не смог хдд</td>\n",
       "    </tr>\n",
       "  </tbody>\n",
       "</table>\n",
       "</div>"
      ],
      "text/plain": [
       "                                                   text\n",
       "6208  у малого на ноуте. сделала вывод у нас на час ...\n",
       "9931  но чекисты явно недовольны тем, что ты ахуенны...\n",
       "9007  а скольких обманул и продолжает обманывать пут...\n",
       "9311                          кому твит с картинкой для\n",
       "6084                               я как бы не смог хдд"
      ]
     },
     "execution_count": 226,
     "metadata": {},
     "output_type": "execute_result"
    }
   ],
   "source": [
    "df_negative = pd.DataFrame(generated_negative, columns=['text'])\n",
    "df_negative.sample(5)"
   ]
  },
  {
   "cell_type": "code",
   "execution_count": 227,
   "metadata": {},
   "outputs": [
    {
     "name": "stdout",
     "output_type": "stream",
     "text": [
      "Wall time: 47.2 s\n"
     ]
    }
   ],
   "source": [
    "%%time\n",
    "\n",
    "df_negative['sentiment'] = df_negative['text'].apply(lambda x: scale_prob(grid.predict_proba([x])[0][1]))"
   ]
  },
  {
   "cell_type": "code",
   "execution_count": 256,
   "metadata": {},
   "outputs": [
    {
     "data": {
      "text/plain": [
       "<matplotlib.axes._subplots.AxesSubplot at 0x2103a969da0>"
      ]
     },
     "execution_count": 256,
     "metadata": {},
     "output_type": "execute_result"
    },
    {
     "data": {
      "image/png": "[encoded data removed]",
      "text/plain": [
       "<Figure size 432x288 with 1 Axes>"
      ]
     },
     "metadata": {
      "needs_background": "light"
     },
     "output_type": "display_data"
    }
   ],
   "source": [
    "df_negative['sentiment'].hist(bins=25)"
   ]
  },
  {
   "cell_type": "code",
   "execution_count": 229,
   "metadata": {},
   "outputs": [
    {
     "name": "stdout",
     "output_type": "stream",
     "text": [
      "10000 9996\n"
     ]
    },
    {
     "data": {
      "text/html": [
       "<div>\n",
       "<style scoped>\n",
       "    .dataframe tbody tr th:only-of-type {\n",
       "        vertical-align: middle;\n",
       "    }\n",
       "\n",
       "    .dataframe tbody tr th {\n",
       "        vertical-align: top;\n",
       "    }\n",
       "\n",
       "    .dataframe thead th {\n",
       "        text-align: right;\n",
       "    }\n",
       "</style>\n",
       "<table border=\"1\" class=\"dataframe\">\n",
       "  <thead>\n",
       "    <tr style=\"text-align: right;\">\n",
       "      <th></th>\n",
       "      <th>text</th>\n",
       "      <th>sentiment</th>\n",
       "    </tr>\n",
       "  </thead>\n",
       "  <tbody>\n",
       "    <tr>\n",
       "      <td>0</td>\n",
       "      <td>не сиди как дуб, голосуй!! одна баба, ну вот к...</td>\n",
       "      <td>0.969775</td>\n",
       "    </tr>\n",
       "    <tr>\n",
       "      <td>1</td>\n",
       "      <td>ааа! не ругайся! кстати, ты сама знаешь что по...</td>\n",
       "      <td>0.967966</td>\n",
       "    </tr>\n",
       "    <tr>\n",
       "      <td>2</td>\n",
       "      <td>спасибо, я с ним играть …</td>\n",
       "      <td>-0.035188</td>\n",
       "    </tr>\n",
       "    <tr>\n",
       "      <td>3</td>\n",
       "      <td>да чтоб у твоей новой девушки нос :d</td>\n",
       "      <td>0.999785</td>\n",
       "    </tr>\n",
       "    <tr>\n",
       "      <td>4</td>\n",
       "      <td>пришел спецназовец, прочитал лекцию. мы опять ...</td>\n",
       "      <td>0.999654</td>\n",
       "    </tr>\n",
       "    <tr>\n",
       "      <td>...</td>\n",
       "      <td>...</td>\n",
       "      <td>...</td>\n",
       "    </tr>\n",
       "    <tr>\n",
       "      <td>19991</td>\n",
       "      <td>ок, если честно! я забыла про твиттер :|</td>\n",
       "      <td>-0.929443</td>\n",
       "    </tr>\n",
       "    <tr>\n",
       "      <td>19992</td>\n",
       "      <td>а может давай кину позже? как ты думаешь мне эт …</td>\n",
       "      <td>-0.255696</td>\n",
       "    </tr>\n",
       "    <tr>\n",
       "      <td>19993</td>\n",
       "      <td>что о_о куда, кто вылазит из воды 8 грудей, 3 ...</td>\n",
       "      <td>-0.821495</td>\n",
       "    </tr>\n",
       "    <tr>\n",
       "      <td>19994</td>\n",
       "      <td>ок, я в бронзовой. меня хотят изнасиловать :|</td>\n",
       "      <td>-0.949400</td>\n",
       "    </tr>\n",
       "    <tr>\n",
       "      <td>19995</td>\n",
       "      <td>собаки трлько от утренних гуляний обсохли, а я...</td>\n",
       "      <td>-0.183828</td>\n",
       "    </tr>\n",
       "  </tbody>\n",
       "</table>\n",
       "<p>19996 rows × 2 columns</p>\n",
       "</div>"
      ],
      "text/plain": [
       "                                                    text  sentiment\n",
       "0      не сиди как дуб, голосуй!! одна баба, ну вот к...   0.969775\n",
       "1      ааа! не ругайся! кстати, ты сама знаешь что по...   0.967966\n",
       "2                              спасибо, я с ним играть …  -0.035188\n",
       "3                   да чтоб у твоей новой девушки нос :d   0.999785\n",
       "4      пришел спецназовец, прочитал лекцию. мы опять ...   0.999654\n",
       "...                                                  ...        ...\n",
       "19991           ок, если честно! я забыла про твиттер :|  -0.929443\n",
       "19992  а может давай кину позже? как ты думаешь мне эт …  -0.255696\n",
       "19993  что о_о куда, кто вылазит из воды 8 грудей, 3 ...  -0.821495\n",
       "19994      ок, я в бронзовой. меня хотят изнасиловать :|  -0.949400\n",
       "19995  собаки трлько от утренних гуляний обсохли, а я...  -0.183828\n",
       "\n",
       "[19996 rows x 2 columns]"
      ]
     },
     "execution_count": 229,
     "metadata": {},
     "output_type": "execute_result"
    }
   ],
   "source": [
    "print(len(df_positive), len(df_negative))\n",
    "df_positive_negative = pd.concat([df_positive, df_negative], ignore_index=True)\n",
    "df_positive_negative"
   ]
  },
  {
   "cell_type": "code",
   "execution_count": 255,
   "metadata": {},
   "outputs": [
    {
     "data": {
      "text/plain": [
       "<matplotlib.axes._subplots.AxesSubplot at 0x2103db554a8>"
      ]
     },
     "execution_count": 255,
     "metadata": {},
     "output_type": "execute_result"
    },
    {
     "data": {
      "image/png": "[encoded data removed]",
      "text/plain": [
       "<Figure size 432x288 with 1 Axes>"
      ]
     },
     "metadata": {
      "needs_background": "light"
     },
     "output_type": "display_data"
    }
   ],
   "source": [
    "df_positive_negative['sentiment'].hist(bins=25)"
   ]
  },
  {
   "cell_type": "code",
   "execution_count": 231,
   "metadata": {},
   "outputs": [],
   "source": [
    "def closest_sentiment(sent, n):\n",
    "    phrases = df_positive_negative.values.tolist()\n",
    "    phrases = sorted(phrases, key=lambda x: np.abs(x[1] - sent))[:n]\n",
    "    output_phrase = random.choice(phrases)\n",
    "    \n",
    "    return output_phrase"
   ]
  },
  {
   "cell_type": "code",
   "execution_count": 284,
   "metadata": {
    "scrolled": true
   },
   "outputs": [
    {
     "data": {
      "text/plain": [
       "['племянник смотрит аниме bakugan на на геометрии... куда катится мир? :-d',\n",
       " 0.8370584435402388]"
      ]
     },
     "execution_count": 284,
     "metadata": {},
     "output_type": "execute_result"
    }
   ],
   "source": [
    "closest_sentiment(0.8, 200)"
   ]
  },
  {
   "cell_type": "code",
   "execution_count": 291,
   "metadata": {},
   "outputs": [],
   "source": [
    "with open('model.bin', 'wb') as f:\n",
    "    pickle.dump(pipe, f)"
   ]
  },
  {
   "cell_type": "code",
   "execution_count": 252,
   "metadata": {},
   "outputs": [],
   "source": [
    "with open('generated_positive_negative.json', 'w', encoding='utf-8') as f:\n",
    "    json.dump(df_positive_negative.values.tolist(), f, ensure_ascii=False, indent=4)"
   ]
  },
  {
   "cell_type": "code",
   "execution_count": 330,
   "metadata": {},
   "outputs": [
    {
     "data": {
      "text/plain": [
       "array([ 9.21530840e-01, -1.32510672e+00,  4.23360712e-01, ...,\n",
       "        2.85672869e-04, -2.51999946e-03,  1.12487719e-01])"
      ]
     },
     "execution_count": 330,
     "metadata": {},
     "output_type": "execute_result"
    }
   ],
   "source": [
    "pipe.steps[1][1].coef_[0]"
   ]
  },
  {
   "cell_type": "code",
   "execution_count": 338,
   "metadata": {},
   "outputs": [
    {
     "data": {
      "text/plain": [
       "['!',\n",
       " '! !',\n",
       " '! \"',\n",
       " '! #',\n",
       " '! #47ронин',\n",
       " '! #alanrickman',\n",
       " '! #androidapp',\n",
       " '! #apple',\n",
       " '! #baltinfo',\n",
       " '! #bethanymotagiveaway']"
      ]
     },
     "execution_count": 338,
     "metadata": {},
     "output_type": "execute_result"
    }
   ],
   "source": [
    "pipe.steps[0][1].get_feature_names()[:10]"
   ]
  },
  {
   "cell_type": "code",
   "execution_count": 341,
   "metadata": {
    "scrolled": true
   },
   "outputs": [
    {
     "data": {
      "text/plain": [
       "[('c12h22o11', 4.237918079885803e-10),\n",
       " ('http://t.co/eu02nvw5uq', 3.4620911075789753e-09),\n",
       " ('http://t.co/zqkim4b9i1', 5.070022579362971e-09),\n",
       " ('http://t.co/6t3nekrnd1', 5.102246418123475e-09),\n",
       " ('https://t.co/8sph9ghpbv', 5.5662396737346965e-09),\n",
       " ('вресия', 6.001398991756801e-09),\n",
       " ('ккофточка', 8.670919105059703e-09),\n",
       " ('ржунимаг', -8.983550270206983e-09),\n",
       " ('http://t.co/igntyfngrd', -9.447546637600412e-09),\n",
       " ('индюк', -1.0212429589069493e-08)]"
      ]
     },
     "execution_count": 341,
     "metadata": {},
     "output_type": "execute_result"
    }
   ],
   "source": [
    "sorted([i for i in list(zip(pipe.steps[0][1].get_feature_names(), list(pipe.steps[1][1].coef_[0]))) if len(i[0].split()) == 1], key=lambda x: abs(x[1]))[:10]"
   ]
  }
 ],
 "metadata": {
  "kernelspec": {
   "display_name": "Python 3",
   "language": "python",
   "name": "python3"
  },
  "language_info": {
   "codemirror_mode": {
    "name": "ipython",
    "version": 3
   },
   "file_extension": ".py",
   "mimetype": "text/x-python",
   "name": "python",
   "nbconvert_exporter": "python",
   "pygments_lexer": "ipython3",
   "version": "3.7.3"
  }
 },
 "nbformat": 4,
 "nbformat_minor": 2
}
